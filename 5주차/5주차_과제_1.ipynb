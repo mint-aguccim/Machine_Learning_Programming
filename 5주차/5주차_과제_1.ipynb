{
  "nbformat": 4,
  "nbformat_minor": 0,
  "metadata": {
    "colab": {
      "provenance": [],
      "mount_file_id": "1grvprPvsJJrvlFtoEe81s1x0VVognYfG",
      "authorship_tag": "ABX9TyMvawUDN8O5XnTOfG0ByKd2",
      "include_colab_link": true
    },
    "kernelspec": {
      "name": "python3",
      "display_name": "Python 3"
    },
    "language_info": {
      "name": "python"
    }
  },
  "cells": [
    {
      "cell_type": "markdown",
      "metadata": {
        "id": "view-in-github",
        "colab_type": "text"
      },
      "source": [
        "<a href=\"https://colab.research.google.com/github/mint-aguccim/Machine_Learning_Programming/blob/main/5%EC%A3%BC%EC%B0%A8/5%EC%A3%BC%EC%B0%A8_%EA%B3%BC%EC%A0%9C_1.ipynb\" target=\"_parent\"><img src=\"https://colab.research.google.com/assets/colab-badge.svg\" alt=\"Open In Colab\"/></a>"
      ]
    },
    {
      "cell_type": "code",
      "execution_count": 1,
      "metadata": {
        "id": "e4p-ynOuQgwJ"
      },
      "outputs": [],
      "source": [
        "import matplotlib.pyplot as plt\n",
        "from sklearn import datasets, metrics\n",
        "from sklearn.model_selection import train_test_split\n"
      ]
    },
    {
      "cell_type": "code",
      "source": [
        "# 1. 필요한 모델들 import\n",
        "from sklearn.neighbors import KNeighborsClassifier\n",
        "from sklearn.tree import DecisionTreeClassifier\n",
        "from sklearn.linear_model import LogisticRegression\n",
        "from sklearn.ensemble import RandomForestClassifier"
      ],
      "metadata": {
        "id": "R2rsUepZXwm0"
      },
      "execution_count": 20,
      "outputs": []
    },
    {
      "cell_type": "code",
      "source": [
        "# 2. 데이터 준비\n",
        "digits = datasets.load_digits()\n",
        "n_samples = len(digits.images)\n",
        "data = digits.images.reshape((n_samples, -1))"
      ],
      "metadata": {
        "id": "cClmC7OEX13j"
      },
      "execution_count": 21,
      "outputs": []
    },
    {
      "cell_type": "code",
      "source": [
        "# 훈련 및 테스트 데이터 분리\n",
        "X_train, X_test, y_train, y_test = train_test_split(\n",
        "    data, digits.target, test_size=0.2, random_state=42\n",
        ")"
      ],
      "metadata": {
        "id": "QGWCt2DZX5MX"
      },
      "execution_count": 22,
      "outputs": []
    },
    {
      "cell_type": "code",
      "source": [
        "# 3. 모델별 학습 및 정확도 평가\n",
        "# ------------------------------------------------------------\n",
        "# 🤖 1) K-Nearest Neighbors (KNN)\n",
        "knn_clf = KNeighborsClassifier(n_neighbors=6)\n",
        "knn_clf.fit(X_train, y_train)\n",
        "knn_pred = knn_clf.predict(X_test)\n",
        "knn_score = metrics.accuracy_score(y_test, knn_pred)\n",
        "print(f\"K-Nearest Neighbors 정확도: {knn_score:.4f}\")"
      ],
      "metadata": {
        "colab": {
          "base_uri": "https://localhost:8080/"
        },
        "id": "vGttRRpTX8vW",
        "outputId": "147558c7-4e8d-4c0d-e7f6-cfc63e753026"
      },
      "execution_count": 23,
      "outputs": [
        {
          "output_type": "stream",
          "name": "stdout",
          "text": [
            "K-Nearest Neighbors 정확도: 0.9889\n"
          ]
        }
      ]
    },
    {
      "cell_type": "code",
      "source": [
        "# ------------------------------------------------------------\n",
        "# 🌳 2) Decision Tree (DT)\n",
        "dt_clf = DecisionTreeClassifier(random_state=42)\n",
        "dt_clf.fit(X_train, y_train)\n",
        "dt_pred = dt_clf.predict(X_test)\n",
        "dt_score = metrics.accuracy_score(y_test, dt_pred)\n",
        "print(f\"Decision Tree 정확도:     {dt_score:.4f}\")"
      ],
      "metadata": {
        "colab": {
          "base_uri": "https://localhost:8080/"
        },
        "id": "uMWpd5NJYBMl",
        "outputId": "904df1ae-bf36-4c48-8fc6-01aa72530cd3"
      },
      "execution_count": 24,
      "outputs": [
        {
          "output_type": "stream",
          "name": "stdout",
          "text": [
            "Decision Tree 정확도:     0.8417\n"
          ]
        }
      ]
    },
    {
      "cell_type": "code",
      "source": [
        "# ------------------------------------------------------------\n",
        "# 📊 3) Logistic Regression (LR)\n",
        "# max_iter: 계산 횟수가 부족하다는 경고를 방지하기 위해 충분한 값을 줍니다.\n",
        "lr_clf = LogisticRegression(max_iter=2000, random_state=42)\n",
        "lr_clf.fit(X_train, y_train)\n",
        "lr_pred = lr_clf.predict(X_test)\n",
        "lr_score = metrics.accuracy_score(y_test, lr_pred)\n",
        "print(f\"Logistic Regression 정확도: {lr_score:.4f}\")"
      ],
      "metadata": {
        "colab": {
          "base_uri": "https://localhost:8080/"
        },
        "id": "nEy15OCjYBTO",
        "outputId": "7304231b-61bd-44b2-d38d-1dd9144f4cae"
      },
      "execution_count": 25,
      "outputs": [
        {
          "output_type": "stream",
          "name": "stdout",
          "text": [
            "Logistic Regression 정확도: 0.9750\n"
          ]
        }
      ]
    },
    {
      "cell_type": "code",
      "source": [
        "# ------------------------------------------------------------\n",
        "# 🌲 4) Random Forest (RF)\n",
        "rf_clf = RandomForestClassifier(random_state=42)\n",
        "rf_clf.fit(X_train, y_train)\n",
        "rf_pred = rf_clf.predict(X_test)\n",
        "rf_score = metrics.accuracy_score(y_test, rf_pred)\n",
        "print(f\"Random Forest 정확도:     {rf_score:.4f}\")"
      ],
      "metadata": {
        "colab": {
          "base_uri": "https://localhost:8080/"
        },
        "id": "IKXxXZjkYBWF",
        "outputId": "89cf5d0c-a597-46a2-a78d-2a51fb9a2fb9"
      },
      "execution_count": 26,
      "outputs": [
        {
          "output_type": "stream",
          "name": "stdout",
          "text": [
            "Random Forest 정확도:     0.9722\n"
          ]
        }
      ]
    },
    {
      "cell_type": "code",
      "source": [
        "# ------------------------------------------------------------\n",
        "# 4. 샘플 이미지 하나를 선택하여 예측해보기\n",
        "# (가장 성능이 좋게 나온 모델을 사용해볼 수 있습니다)\n",
        "print(\"\\n--- 샘플 데이터 예측 ---\")\n",
        "sample_index = 10\n",
        "sample_image = X_test[sample_index]\n",
        "actual_label = y_test[sample_index]"
      ],
      "metadata": {
        "colab": {
          "base_uri": "https://localhost:8080/"
        },
        "id": "r90-yCgZYBY0",
        "outputId": "ff301f38-780f-409d-bd3a-8aa7d9bf452e"
      },
      "execution_count": 27,
      "outputs": [
        {
          "output_type": "stream",
          "name": "stdout",
          "text": [
            "\n",
            "--- 샘플 데이터 예측 ---\n"
          ]
        }
      ]
    },
    {
      "cell_type": "code",
      "source": [
        "# Random Forest 모델로 예측 수행\n",
        "# 입력은 항상 2차원 행렬이어야 하므로 .reshape(1, -1) 사용\n",
        "rf_single_pred = rf_clf.predict(sample_image.reshape(1, -1))"
      ],
      "metadata": {
        "id": "L62TPpMSYLmz"
      },
      "execution_count": 28,
      "outputs": []
    },
    {
      "cell_type": "code",
      "source": [
        "# 예측 결과 시각화\n",
        "plt.imshow(sample_image.reshape(8, 8), cmap=plt.cm.gray_r, interpolation='nearest')\n",
        "plt.title(f\"실제 값: {actual_label} / RF 예측 값: {rf_single_pred[0]}\")\n",
        "plt.show()"
      ],
      "metadata": {
        "colab": {
          "base_uri": "https://localhost:8080/",
          "height": 634
        },
        "id": "SiImN8CiYLpY",
        "outputId": "aab1bdfe-e114-4b23-8397-021a67c4a0e9"
      },
      "execution_count": 29,
      "outputs": [
        {
          "output_type": "stream",
          "name": "stderr",
          "text": [
            "/usr/local/lib/python3.12/dist-packages/IPython/core/pylabtools.py:151: UserWarning: Glyph 49892 (\\N{HANGUL SYLLABLE SIL}) missing from font(s) DejaVu Sans.\n",
            "  fig.canvas.print_figure(bytes_io, **kw)\n",
            "/usr/local/lib/python3.12/dist-packages/IPython/core/pylabtools.py:151: UserWarning: Glyph 51228 (\\N{HANGUL SYLLABLE JE}) missing from font(s) DejaVu Sans.\n",
            "  fig.canvas.print_figure(bytes_io, **kw)\n",
            "/usr/local/lib/python3.12/dist-packages/IPython/core/pylabtools.py:151: UserWarning: Glyph 44050 (\\N{HANGUL SYLLABLE GABS}) missing from font(s) DejaVu Sans.\n",
            "  fig.canvas.print_figure(bytes_io, **kw)\n",
            "/usr/local/lib/python3.12/dist-packages/IPython/core/pylabtools.py:151: UserWarning: Glyph 50696 (\\N{HANGUL SYLLABLE YE}) missing from font(s) DejaVu Sans.\n",
            "  fig.canvas.print_figure(bytes_io, **kw)\n",
            "/usr/local/lib/python3.12/dist-packages/IPython/core/pylabtools.py:151: UserWarning: Glyph 52769 (\\N{HANGUL SYLLABLE CEUG}) missing from font(s) DejaVu Sans.\n",
            "  fig.canvas.print_figure(bytes_io, **kw)\n"
          ]
        },
        {
          "output_type": "display_data",
          "data": {
            "text/plain": [
              "<Figure size 640x480 with 1 Axes>"
            ],
            "image/png": "[encoded data removed]"
          },
          "metadata": {}
        }
      ]
    }
  ]
}